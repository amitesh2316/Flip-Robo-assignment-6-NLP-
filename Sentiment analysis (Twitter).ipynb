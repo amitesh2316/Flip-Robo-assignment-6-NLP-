{
 "cells": [
  {
   "cell_type": "code",
   "execution_count": 5,
   "metadata": {},
   "outputs": [
    {
     "name": "stdout",
     "output_type": "stream",
     "text": [
      "Collecting GetOldTweets3\n",
      "  Downloading GetOldTweets3-0.0.11-py3-none-any.whl (13 kB)\n",
      "Collecting pyquery>=1.2.10\n",
      "  Downloading pyquery-1.4.1-py2.py3-none-any.whl (22 kB)\n",
      "Requirement already satisfied: lxml>=3.5.0 in c:\\users\\amitesh.patel\\anaconda3\\lib\\site-packages (from GetOldTweets3) (4.5.0)\n",
      "Collecting cssselect>0.7.9\n",
      "  Downloading cssselect-1.1.0-py2.py3-none-any.whl (16 kB)\n",
      "Installing collected packages: cssselect, pyquery, GetOldTweets3\n",
      "Successfully installed GetOldTweets3-0.0.11 cssselect-1.1.0 pyquery-1.4.1\n"
     ]
    }
   ],
   "source": [
    "!pip install GetOldTweets3"
   ]
  },
  {
   "cell_type": "code",
   "execution_count": 1,
   "metadata": {},
   "outputs": [],
   "source": [
    "import string\n",
    "from collections import Counter\n",
    "from nltk.corpus import stopwords\n",
    "\n",
    "import matplotlib.pyplot as plt"
   ]
  },
  {
   "cell_type": "code",
   "execution_count": 2,
   "metadata": {},
   "outputs": [],
   "source": [
    "def get_tweets():\n",
    "    import GetOldTweets3 as got   # library used to scrape data from twitter without any other tools\n",
    "    tweetCriteria = got.manager.TweetCriteria().setQuerySearch('#coronavirus') \\\n",
    "        .setSince(\"2019-10-20\") \\\n",
    "        .setUntil(\"2019-11-20\") \\\n",
    "        .setMaxTweets(100)\n",
    "    # Creation of list that contains all tweets\n",
    "    tweets = got.manager.TweetManager.getTweets(tweetCriteria)\n",
    "    # Creating list of chosen tweet data\n",
    "    text_tweets = [[tweet.text] for tweet in tweets]\n",
    "    return text_tweets"
   ]
  },
  {
   "cell_type": "code",
   "execution_count": 3,
   "metadata": {},
   "outputs": [],
   "source": [
    "# reading text file\n",
    "text = \"\"\n",
    "text_tweets = get_tweets()\n",
    "\n",
    "length = len(text_tweets)\n",
    "\n",
    "for i in range(0, length):\n",
    "    text = text_tweets[i][0] + \" \" + text\n",
    "\n",
    "# converting to lowercase\n",
    "lower_case = text.lower()\n",
    "\n",
    "# Removing punctuations\n",
    "cleaned_text = lower_case.translate(str.maketrans('', '', string.punctuation))\n",
    "\n",
    "# splitting text into words\n",
    "tokenized_words = cleaned_text.split()"
   ]
  },
  {
   "cell_type": "code",
   "execution_count": 4,
   "metadata": {},
   "outputs": [
    {
     "data": {
      "text/plain": [
       "[[\"One New #MERS #Coronavirus Case reported by #Saudi Arabia (MoH, November 18 '19) https://www.bloglovin.com/blogs/a-times-memory-14827013/one-new-mers-coronavirus-case-reported-by-7197135173 on @bloglovin\"],\n",
       " [\"One New #MERS #Coronavirus Case reported by #Saudi Arabia (MoH, November 18 '19) http://bit.ly/2NVBZu1\"],\n",
       " ['Blocking #transmission of Middle East respiratory syndrome #coronavirus... https://www.bloglovin.com/blogs/etidioh-14830771/blocking-transmission-middle-east-respiratory-7191069043 on @bloglovin'],\n",
       " ['Blocking #transmission of Middle East respiratory syndrome #coronavirus (#MERS-CoV) in #llamas by #vaccination with a recombinant spike protein (Emerg Microbes Infect., abstract) https://etidioh.wordpress.com/2019/11/13/blocking-transmission-of-middle-east-respiratory-syndrome-coronavirus-mers-cov-in-llamas-by-vaccination-with-a-recombinant-spike-protein-emerg-microbes-infect-abstract/'],\n",
       " ['#MERS #Coronavirus, #Situation #Update, October 2019 (@WHO EMRO, November 13... https://www.bloglovin.com/blogs/a-times-memory-14827013/mers-coronavirus-situation-update-october-7190843253 on @bloglovin'],\n",
       " ['#MERS #Coronavirus, #Situation #Update, October 2019 (@WHO EMRO, November 13 ‘19) http://bit.ly/2NKJrsb'],\n",
       " [\"One New #MERS #Coronavirus Case reported by #Saudi Arabia (MoH, November 13 '19) https://www.bloglovin.com/blogs/a-times-memory-14827013/one-new-mers-coronavirus-case-reported-by-7190176497 on @bloglovin\"],\n",
       " [\"One New #MERS #Coronavirus Case reported by #Saudi Arabia (MoH, November 13 '19) http://bit.ly/2CDbH9D\"],\n",
       " [\"One New #MERS #Coronavirus Case reported by #Saudi Arabia (MoH, November 14 '19) http://bit.ly/2CDbH9D\"],\n",
       " ['Three Amino Acid Changes In Avian #Coronavirus Spike Protein Allows Binding To Kidney Tissue '],\n",
       " [\"One New #MERS #Coronavirus Case reported by #Saudi Arabia (MoH, November 13 '19) https://www.bloglovin.com/blogs/a-times-memory-14827013/one-new-mers-coronavirus-case-reported-by-7188513621 on @bloglovin\"],\n",
       " [\"One New #MERS #Coronavirus Case reported by #Saudi Arabia (MoH, November 13 '19) http://bit.ly/2qHXpC0\"],\n",
       " ['One New, #fatal #MERS #Coronavirus Case reported by #Saudi Arabia (MoH,... https://www.bloglovin.com/blogs/a-times-memory-14827013/one-new-fatal-mers-coronavirus-case-reported-7187109409 on @bloglovin'],\n",
       " [\"One New, #fatal #MERS #Coronavirus Case reported by #Saudi Arabia (MoH, November 11 '19) http://bit.ly/36W4Rd9\"],\n",
       " [\"One New #MERS #Coronavirus Case reported by #Saudi Arabia (MoH, November 10 '19) https://www.bloglovin.com/blogs/a-times-memory-14827013/one-new-mers-coronavirus-case-reported-by-7185781091 on @bloglovin\"],\n",
       " [\"One New #MERS #Coronavirus Case reported by #Saudi Arabia (MoH, November 10 '19) http://bit.ly/2Oad7Or\"],\n",
       " ['PreProNewProf1 \\u2066@MattFrieman\\u2069 August 11, 2008. Wise guy eyes. #virology #coronavirologist #lovevirology #coronavirus #uncpostdocs #uncsph'],\n",
       " ['Big time glossies. Ralph and Kendra do the science. @UNCpublichealth @UNCResearch #Gillings #bariclab #coronavirus #kendrilla'],\n",
       " ['#Epidemiological #status of the #MERS #coronavirus in 2019: an #update from... https://www.bloglovin.com/blogs/etidioh-14830771/epidemiological-status-mers-coronavirus-in-7182388671 on @bloglovin'],\n",
       " ['#Epidemiological #status of the #MERS #coronavirus in 2019: an #update from January 1 to March 31, 2019 (Int J Gen Med., abstract) https://etidioh.wordpress.com/2019/11/07/epidemiological-status-of-the-mers-coronavirus-in-2019-an-update-from-january-1-to-march-31-2019-int-j-gen-med-abstract/'],\n",
       " ['Update on cluster of #Coronavirus cases in Siu Lam #Hospital - https://is.gd/V9BpPo #Agenparl #Patient #AgenparlEnglish #SocialNetwork'],\n",
       " ['#MERS #Coronavirus #Seropositivity in #Camel #Handlers and Their #Families,... https://www.bloglovin.com/blogs/etidioh-14830771/mers-coronavirus-seropositivity-in-camel-7180586505 on @bloglovin'],\n",
       " ['Three New #MERS #Coronavirus Cases reported by #Saudi Arabia (MoH, November 6... https://www.bloglovin.com/blogs/a-times-memory-14827013/three-new-mers-coronavirus-cases-reported-7180586241 on @bloglovin'],\n",
       " ['#MERS #Coronavirus #Seropositivity in #Camel #Handlers and Their #Families, #Pakistan (Emerg Infect Dis., abstract) https://etidioh.wordpress.com/2019/11/06/mers-coronavirus-seropositivity-in-camel-handlers-and-their-families-pakistan-emerg-infect-dis-abstract/'],\n",
       " [\"Three New #MERS #Coronavirus Cases reported by #Saudi Arabia (MoH, November 6 '19) http://bit.ly/34y61K3\"],\n",
       " ['Cluster of #Coronavirus cases in Siu Lam #Hospital - https://is.gd/6BJ389 #Agenparl #November #Patients #AgenparlEnglish #SocialNetwork'],\n",
       " [\"One New #MERS #Coronavirus Case reported by #Saudi Arabia (MoH, November 3 '19) https://www.bloglovin.com/blogs/a-times-memory-14827013/one-new-mers-coronavirus-case-reported-by-7175448135 on @bloglovin\"],\n",
       " [\"One New #MERS #Coronavirus Case reported by #Saudi Arabia (MoH, November 3 '19) http://bit.ly/2C9NAit\"],\n",
       " [\"One New #MERS #Coronavirus Case reported by #Saudi Arabia (MoH, November 1 '19) https://www.bloglovin.com/blogs/a-times-memory-14827013/one-new-mers-coronavirus-case-reported-by-7173428215 on @bloglovin\"],\n",
       " [\"One New #MERS #Coronavirus Case reported by #Saudi Arabia (MoH, November 1 '19) http://bit.ly/2Wwu7Su\"],\n",
       " [' Evaluating the potential impact of targeted #vaccination strategies against severe acute respiratory syndrome #coronavirus (#SARS-CoV) and Middle East respiratory syndrome coronavirus (#MERS-CoV) outbreaks in the #healthcare setting https://rdcu.be/bVP4T @WHO @UniPadova'],\n",
       " [\"Two New #MERS #Coronavirus Cases reported by #Saudi Arabia (MoH, October 31 '19) https://www.bloglovin.com/blogs/a-times-memory-14827013/two-new-mers-coronavirus-cases-reported-by-7171950625 on @bloglovin\"],\n",
       " ['Middle East respiratory syndrome #coronavirus (#MERS-CoV) – #UAE (@WHO, Oct. 31 ‘19) http://bit.ly/2NsDLS7'],\n",
       " [\"Two New #MERS #Coronavirus Cases reported by #Saudi Arabia (MoH, October 31 '19) http://bit.ly/2N4x2ie\"],\n",
       " [\"One New #MERS #Coronavirus Case reported by #Saudi Arabia (MoH, October 30 '19) https://www.bloglovin.com/blogs/a-times-memory-14827013/one-new-mers-coronavirus-case-reported-by-7169830293 on @bloglovin\"],\n",
       " [\"One New #MERS #Coronavirus Case reported by #Saudi Arabia (MoH, October 30 '19) http://bit.ly/348gITg\"],\n",
       " [\"One New #MERS #Coronavirus Case reported by #Saudi Arabia (MoH, October 29 '19) https://www.bloglovin.com/blogs/a-times-memory-14827013/one-new-mers-coronavirus-case-reported-by-7168870035 on @bloglovin\"],\n",
       " [\"One New #MERS #Coronavirus Case reported by #Saudi Arabia (MoH, October 29 '19) http://bit.ly/31Zow8q\"],\n",
       " ['#HK, Suspected #MERS #Coronavirus case reported (CHP, Oct. 27 ‘19) https://www.bloglovin.com/blogs/a-times-memory-14827013/hk-suspected-mers-coronavirus-case-reported-7166199699 on @bloglovin'],\n",
       " ['#HK, Suspected #MERS #Coronavirus case reported (CHP, Oct. 27 ‘19) http://bit.ly/2Jqm98g'],\n",
       " ['#Serological evidence of #MERS-CoV and #HKU8-related #Coronavirus... https://www.bloglovin.com/blogs/etidioh-14830771/serological-evidence-mers-cov-hku8-related-7164737207 on @bloglovin'],\n",
       " ['#Serological evidence of #MERS-CoV and #HKU8-related #Coronavirus #coinfection in #Kenyan #camels (Emerg Microbes Infect., abstract) https://etidioh.wordpress.com/2019/10/26/serological-evidence-of-mers-cov-and-hku8-related-coronavirus-coinfection-in-kenyan-camels-emerg-microbes-infect-abstract/'],\n",
       " ['#Clinical #outcomes among #hospital #patients with Middle East respiratory syndrome #coronavirus (#MERS-CoV) #infection (BMC Infect Dis., abstract)'],\n",
       " [\"One New #MERS #Coronavirus Case reported by #Saudi Arabia (MoH, October 24 '19) http://bit.ly/2JjGdcy\"],\n",
       " ['Do you work on coronaviruses? Check out this Special Issue of Pathogens being guest edited by Lisa Gralinski. The deadline for submissions is July 31, 2020 so plenty of time to put something together! #coronavirus https://www.mdpi.com/journal/pathogens/special_issues/SARS-CoV_Infections'],\n",
       " ['I’m excited to announce that I’m guest editing a Special Issue of Pathogens on SARS-CoV Infections. Check out the details on their website and don’t be afraid to send any questions my way! https://www.mdpi.com/journal/pathogens/special_issues/SARS-CoV_Infections #coronavirus '],\n",
       " ['Une équipe US de #chercheurs vient de mettre en lumière les facteurs de #risque qui rendent les #infections #respiratoires, et en particulier celle au #coronavirus MERS-CoV, plus graves pour les #diabétiques que pour le reste de la population. #diabète'],\n",
       " ['#Researchers have been eager to identify any risk factors that contribute to the development of severe or lethal disease #respiratory syndrome #coronavirus (MERS-CoV). '],\n",
       " ['Patients with #diabetes may have worse #lung infections https://www.news-medical.net/news/20191021/Patients-with-diabetes-may-have-worse-lung-infections.aspx #MiddleEast #respiratory #syndrome #coronavirus #MERS']]"
      ]
     },
     "execution_count": 4,
     "metadata": {},
     "output_type": "execute_result"
    }
   ],
   "source": [
    "# Print texts\n",
    "text_tweets"
   ]
  },
  {
   "cell_type": "code",
   "execution_count": null,
   "metadata": {},
   "outputs": [],
   "source": [
    "stop_words = stopwords.words('english')"
   ]
  },
  {
   "cell_type": "code",
   "execution_count": 6,
   "metadata": {},
   "outputs": [],
   "source": [
    "stop_words = [\"i\", \"me\", \"my\", \"myself\", \"we\", \"our\", \"ours\", \"ourselves\", \"you\", \"your\", \"yours\", \"yourself\",\n",
    "              \"yourselves\", \"he\", \"him\", \"his\", \"himself\", \"she\", \"her\", \"hers\", \"herself\", \"it\", \"its\", \"itself\",\n",
    "              \"they\", \"them\", \"their\", \"theirs\", \"themselves\", \"what\", \"which\", \"who\", \"whom\", \"this\", \"that\", \"these\",\n",
    "              \"those\", \"am\", \"is\", \"are\", \"was\", \"were\", \"be\", \"been\", \"being\", \"have\", \"has\", \"had\", \"having\", \"do\",\n",
    "              \"does\", \"did\", \"doing\", \"a\", \"an\", \"the\", \"and\", \"but\", \"if\", \"or\", \"because\", \"as\", \"until\", \"while\",\n",
    "              \"of\", \"at\", \"by\", \"for\", \"with\", \"about\", \"against\", \"between\", \"into\", \"through\", \"during\", \"before\",\n",
    "              \"after\", \"above\", \"below\", \"to\", \"from\", \"up\", \"down\", \"in\", \"out\", \"on\", \"off\", \"over\", \"under\", \"again\",\n",
    "              \"further\", \"then\", \"once\", \"here\", \"there\", \"when\", \"where\", \"why\", \"how\", \"all\", \"any\", \"both\", \"each\",\n",
    "              \"few\", \"more\", \"most\", \"other\", \"some\", \"such\", \"no\", \"nor\", \"not\", \"only\", \"own\", \"same\", \"so\", \"than\",\n",
    "              \"too\", \"very\", \"s\", \"t\", \"can\", \"will\", \"just\", \"don\", \"should\", \"now\"]\n",
    "\n",
    "# Removing stop words from the tokenized words list\n",
    "final_words = [word for word in tokenized_words if word not in stop_words]"
   ]
  },
  {
   "cell_type": "markdown",
   "metadata": {},
   "source": [
    "# Positive emotions before Corona-Virus Outbreak"
   ]
  },
  {
   "cell_type": "code",
   "execution_count": 7,
   "metadata": {},
   "outputs": [
    {
     "name": "stdout",
     "output_type": "stream",
     "text": [
      "Counter({'eager': 1, 'excited': 1, 'patient': 1, 'wise': 1, 'work': 1})\n"
     ]
    }
   ],
   "source": [
    "emotion_list = []\n",
    "with open('p-emotions.txt', 'r') as file:\n",
    "    for line in file:\n",
    "        clear_line = line.replace('\\n', '').strip()\n",
    "        emotion = clear_line\n",
    "        if emotion in final_words:\n",
    "            emotion_list.append(emotion)\n",
    "\n",
    "w = Counter(emotion_list)\n",
    "print(w)\n"
   ]
  },
  {
   "cell_type": "code",
   "execution_count": 8,
   "metadata": {},
   "outputs": [
    {
     "data": {
      "image/png": "[encoded data removed]",
      "text/plain": [
       "<Figure size 432x288 with 1 Axes>"
      ]
     },
     "metadata": {
      "needs_background": "light"
     },
     "output_type": "display_data"
    }
   ],
   "source": [
    "fig, ax1 = plt.subplots()\n",
    "ax1.bar(w.keys(), w.values())\n",
    "fig.autofmt_xdate()\n",
    "plt.savefig('graph.png')\n",
    "plt.show()"
   ]
  },
  {
   "cell_type": "markdown",
   "metadata": {},
   "source": [
    "# Negative emotions before corona_virus Outbreak"
   ]
  },
  {
   "cell_type": "code",
   "execution_count": 9,
   "metadata": {},
   "outputs": [
    {
     "name": "stdout",
     "output_type": "stream",
     "text": [
      "Counter({'afraid': 1, 'fatal': 1, 'infection': 1, 'infections': 1, 'issue': 1, 'lethal': 1, 'risk': 1, 'severe': 1, 'syndrome': 1, 'worse': 1})\n"
     ]
    }
   ],
   "source": [
    "emotion_list = []\n",
    "with open('n-emotions.txt', 'r') as file:\n",
    "    for line in file:\n",
    "        clear_line = line.replace('\\n', '').strip()\n",
    "        emotion = clear_line\n",
    "        if emotion in final_words:\n",
    "            emotion_list.append(emotion)\n",
    "\n",
    "w = Counter(emotion_list)\n",
    "print(w)"
   ]
  },
  {
   "cell_type": "code",
   "execution_count": 10,
   "metadata": {},
   "outputs": [
    {
     "data": {
      "image/png": "[encoded data removed]",
      "text/plain": [
       "<Figure size 432x288 with 1 Axes>"
      ]
     },
     "metadata": {
      "needs_background": "light"
     },
     "output_type": "display_data"
    }
   ],
   "source": [
    "fig, ax1 = plt.subplots()\n",
    "ax1.bar(w.keys(), w.values())\n",
    "fig.autofmt_xdate()\n",
    "plt.savefig('graph.png')\n",
    "plt.show()"
   ]
  },
  {
   "cell_type": "code",
   "execution_count": 11,
   "metadata": {},
   "outputs": [],
   "source": [
    "def get_tweets():\n",
    "    import GetOldTweets3 as got   # library used to scrape data from twitter without any other tools\n",
    "    tweetCriteria = got.manager.TweetCriteria().setQuerySearch('#coronavirus') \\\n",
    "        .setSince(\"2020-02-20\") \\\n",
    "        .setUntil(\"2020-03-20\") \\\n",
    "        .setMaxTweets(100)\n",
    "    # Creation of list that contains all tweets\n",
    "    tweets = got.manager.TweetManager.getTweets(tweetCriteria)\n",
    "    # Creating list of chosen tweet data\n",
    "    text_tweets = [[tweet.text] for tweet in tweets]\n",
    "    return text_tweets"
   ]
  },
  {
   "cell_type": "code",
   "execution_count": 12,
   "metadata": {},
   "outputs": [],
   "source": [
    "# reading text file\n",
    "text = \"\"\n",
    "text_tweets = get_tweets()\n",
    "\n",
    "length = len(text_tweets)\n",
    "\n",
    "for i in range(0, length):\n",
    "    text = text_tweets[i][0] + \" \" + text\n",
    "\n",
    "# converting to lowercase\n",
    "lower_case = text.lower()\n",
    "\n",
    "# Removing punctuations\n",
    "cleaned_text = lower_case.translate(str.maketrans('', '', string.punctuation))\n",
    "\n",
    "# splitting text into words\n",
    "tokenized_words = cleaned_text.split()"
   ]
  },
  {
   "cell_type": "code",
   "execution_count": 13,
   "metadata": {},
   "outputs": [
    {
     "data": {
      "text/plain": [
       "[['Disaster scenarios out of #Iran re #coronavirus. 18k \"official\" cases, likely double or triple that. Experts estimate best case scenario 120k infected w/ 12k deaths. Worst case is 4 million cases w/ 3.5 million deaths - staggering 87% fatality. #Covid_19'],\n",
       " [\" c'est une blague??? La France touche le fond!!! @afpfr @EmmanuelMacron @gerardcollomb @villedelyon @BFMLyon #lyon #France #COVID19 #RESTEZCHEZVOUS #SDF @Actions_SDF #JeResteChezMoi #ConfinementJour3 #coronavirus #Covid_19 #TPMP #FightCOVID19 #StayAtHomeChallenge #CODVID19\"],\n",
       " ['¿Qué pasaría si México pasara a fase 2 por el #coronavirus? #COVID19mexico'],\n",
       " ['Só pra ninguém esquecer ... #pandemia #covid19 #covid19brasil #coronavirusnobrasil #coronavirus '],\n",
       " [\"I wanted to share a few words of positivity based on some conversations I've had today and seeing the incredible work our NHS do. #westandtogether #covid19 #coronavirus #nhs #thankyounhs #recruitmentconsultant #recruitinglife #keeprighton #notyouraeragerecruiter #bickers\"],\n",
       " ['#Entérate | ¡Cuesta hasta 6 mil pesos realizarse la prueba del #coronavirus! #Larsa https://youtu.be/YCxUco3z3mY vía @YouTube'],\n",
       " ['Suspensión laboral a partir del 20 de Marzo del 2020 por Covid-19 checa si tu empresa aparece en la lista. Empresas: https://bit.ly/3d7lupk #coronavirus'],\n",
       " ['All Kanas K-12 Schools are shut for the remainder of the School year due to Chinese #coronavirus concerns.'],\n",
       " ['Vcs realmente acreditam que a Itália ultrapassou a China em número de mortos devido ao #coronavirus???'],\n",
       " ['Brasil já com maior número de casos na América Latina. Óbvio, com a população tão maior. Mas, justo por isso, o risco de se tornar epicentro do coronavírus. Temos de nos cuidar. #coronavirus '],\n",
       " [\"#Coronavirus in #NY: #Lawyer #linked to the county's spread awake and recovering, wife says\"],\n",
       " ['If you’re self isolating it’s important to keep a routine. It’s tempting to sleep all day but this won’t help your #mentalhealth. Set small achievable #goals for yourself daily and keep busy. Do something #positive for yourself. And remember #WereInThisTogether #coronavirus'],\n",
       " ['Dos jugadores de los @Lakers dan positivo al test de #coronavirus '],\n",
       " ['#LATEST: More than 200 more visit the #coronavirus mobile test site @UDArena on Thursday. https://www.whio.com/news/local/coronavirus-pandemic-what-you-need-know-thursday/qUKp219dHRxgYfrftAGKgK/'],\n",
       " ['Hallucinant le traitement #Raoult du #coronavirus classé « vénéneux » le 15 janvier. Démission et jugement immédiat du gvt !!! https://www.legifrance.gouv.fr/eli/arrete/2020/1/13/SSAP2001007A/jo/texte'],\n",
       " ['We’re in this together. Our Executive Director & Chair have a new message for CA’s arts & culture field as we face the #COVID19 #coronavirus public health crisis, including important updates on our operations, links &amp; resources: https://mailchi.mp/arts.ca.gov/please-read-message-to-the-field-from-cac-leadership-important-updates-included?e=3a6fc2e2d5 #ArtsCA #CaliforniaForAll'],\n",
       " ['#coronavirus Response “We encourage States to remain steadfast in maintaining #humanrights -based approach to regulating this pandemic, in order to facilitate emergence of healthy societies with rule of law and human rights protections,” UN experts https://www.ohchr.org/EN/NewsEvents/Pages/DisplayNews.aspx?NewsID=25722&amp;LangID=E'],\n",
       " ['Schools: closed Most offices: closed Cricket: cancelled Speed Awareness Course: See you Saturday!! #coronavirus'],\n",
       " ['Saskatoon Transit to suspend fares, change bus boarding in response to COVID-19 via @CTVNews @CTVSaskatoon #COVID19 #YXE #CoronaVirus #StoonTransit #Sask #SK #YXECC'],\n",
       " ['Coronavirus and how it’s impacted my life really is just exacerbating my depression isn’t it #Convid19uk #coronavirus'],\n",
       " ['China reports no new #coronavirus cases from Wuhan for a second day -BBG'],\n",
       " [\"@united @United_Airline while I'm on hold for over 80 minutes I'm looking through @united customer service tweets. Hmmmmmm. Interesting. #coronavirus #CoronaVirusUpdate #airlines #AirlineBailout #airlinenews #dontsayrefundupfront\"],\n",
       " [\"Sapete perché in Cina gli ottantenni non muoiono di coronavirus? Perché, praticamente, non ce n'è. #coronavirus \"],\n",
       " ['#Coronavirus '],\n",
       " ['Some advice from Italy. #coronavirus https://vimeo.com/398651424?outro=1&amp;ref=fb-share'],\n",
       " [' Número de casos do novo #coronavírus no Brasil (últimos três dias): Hoje - 19/03/2020: 621 casos Ontem - 18/03/2020: 428 casos Antes de ontem - 17/03/2020: 291 casos'],\n",
       " ['no somos conscientes del todo... pero desde esta medianoche entramos en una dimensión desconocida... #CoronavirusArgentina #coronavirus'],\n",
       " ['Donald Trump on #coronavirus: \" we are going to defeat the invisible enemy. I think we are going to do it even faster than we thought, and it\\'ll be a complete victory. It\\'ll be a total victory.\" CDC: Health workers \"use homemade masks (e.g., bandana, scarf) ... as a last resort\"'],\n",
       " ['#CuidarteEsCuidarnos #Coronavirus #SomosBrown'],\n",
       " ['Primo do @jairbolsonaro e @BolsonaroSP isso o @JornalOGlobo @CNNBrasil e o @jornalnacional não mostra. #coronavirus #BolsonaroInfectado @joicehasselmann @veramagalhaes @RachelSherazade @PastorMalafaia @CanalDoOtario @FMouraBrasil @marcofeliciano'],\n",
       " ['O ministro @lhmandetta fala sobre xenofobia, especialmente contra os chineses, por conta da epidemia do #coronavírus no mundo. Informação é uma arma importante para evitar o preconceito. @BolsonaroSP'],\n",
       " ['#NEW: Five more #COVID19 #CoronaVirus cases reported in Clark County. Now 74. '],\n",
       " ['#PARTE2 La guía definitiva presentada por perritos #LomitosEnCuarentena #PerritosEnCuarentena #QuedateEnCasa #CoronaVirus #COVID19 #MascotasEnCuarentena #MascotasGraciosas #Mascotas #MemesCoronaVirus'],\n",
       " ['Arkansas update: we have over 60 coronavirus cases, tornados, and floods! #CoronaVirusUpdate #coronavirus #CoronavirusPandemic #arkansas God’s dead'],\n",
       " ['Compartamos mensajes de esperanza, de paz y amor. En estos momentos el mundo es muy difícil, dejé los odios y agresiones de tinte político a un lado, mucha gente está pasando por momentos difíciles debido al #coronavirus, transmita mensajes de esperanza, el mundo lo necesita. '],\n",
       " ['.@TelemundoNews Slips Chinese Propaganda Into #Coronavirus Coverage '],\n",
       " ['check the daily podcast @c_drosten #charitevirology on #coronavirus #covid19 #chloroquine use of #facemasks and #diagnosis (in German)'],\n",
       " ['Stay Healthy. TOTAL HEALTH CARE = THC - -, . . . . . #coronavirusmadrid #coronavirusmemesarenotfunny #coronavírus #coronavirusturkey #coronavirusrd #coronavirusenvenezuela #coronaviruschile #coronavirüs… https://www.instagram.com/p/B97z3-SBWTs/?igshid=54iw0ghg8vbo'],\n",
       " ['Today I had to send my daughter to stay with my mom a state away because school is out and my wife and I still (and are lucky to be doing so) have to work. Please people stay home if you can we need to stop the spread of this virus so we can get back to normal. #coronavirus'],\n",
       " ['There needs to be a test to find out if you’ve had #COVID19, so many people could be walking around not knowing they’ve already had it. #coronavirus'],\n",
       " [\"Rudy Gobert Kevin Durant Donovan Mitchell Marcus Smart.... I wonder who's the 5th Monstar #coronavirus\"],\n",
       " ['#Rayuela Hoy a las 24 @victorsmaria responde sobre @UMETeduar ¿Por qué un sindicato crea una universidad para los hijos de trabajadores? Y también te explica cuál es la función de los trabajadores de edificios en tiempos de #Coronavirus. No te lo pierdas @radioconvos899'],\n",
       " ['Não se deixe enganar! Nosso Deus é onipresente, onisciente e onipotente! Faça suas orações em casa! Não corra riscos! #coronavírus #pandemia https://www.instagram.com/p/B97z4CPnVIe/?igshid=im2qt4vgidp'],\n",
       " ['Mas gente a matado los dictadores de Venezuela, Cuba, Nicaragua, Rusia y Corea del Norte que este virus #Coronavirus'],\n",
       " ['#CoronaVirus la marca de ropa italiana @SANTINI_SMS comenzará a producir 10.000 máscaras por día desde el lunes.'],\n",
       " ['I’ve been saying this. I remember I was soooo ill. Never had a flu like it. Couldn’t breathe properly, had a fever, almost coughed up a lung and sneezed out my brain and every movement was torture! A few people in my block had the same illness. #covid19 #CoronaVirus '],\n",
       " ['#Morocco declares a health emergency and restricts movement across the country from 6 PM on Friday to prevent the further spread of the #coronavirus, says the interior ministry. '],\n",
       " ['Mars Starter pack ptdrrrrrrr #coronavirus #kimglow #EmmanuelMacron #cocid19 #Bomboclaat'],\n",
       " [' HONTEUX!! #LREM #coronavirus #crise #troptard #macron #demission '],\n",
       " ['Watch doctor’s urgent plea after Trump’s remark about masks https://youtu.be/CNZY9QnXefg via @YouTube #FactsMatter #Truth #Coronavirus #COVID19 #COVID-19 #CoronavirusUSA'],\n",
       " ['#Farm #jobs could provide an income for students, job seekers &amp; anyone laid off #work due to the impact of #coronavirus. “We urgently need a #UK labour force which can help harvest crops to feed the nation” @IncEdNetwork @friends_earth @LandworkersUK'],\n",
       " ['Here is some very important information about #coronavirus. If you thought that this is simply a common flu or not something to be worried about, I would highly advise that you rethink your view. These are a few statistics from Fox News and the CDC. #selfquarantine #stayhealthy'],\n",
       " ['Del feto ingeniero pasamos al feto infectólogo. #Coronavirus '],\n",
       " ['Only one way to fight through this pandemic lads .. the return of Bike Mania #coronavirus #Covid_19'],\n",
       " ['Evening Standard via @inkl: Elephants get drunk on corn wine and fall asleep after breaking into Chinese village under coronavirus lockdown #Maize #Wine #Coronavirus '],\n",
       " [\"When @eshupin said expect raft of housing bills, he also meant Residential Assistance for Families in Transition (RAFT). Has come up a lot in #coronavirus response talks. It's flex fund that keeps people in homes. It was made for this. https://bit.ly/3954ZXy @MetroHousingBos\"],\n",
       " ['Just got to Orlando and seeing the outlet parking empty and no rides going at Universal is all so crazy #coronavirus'],\n",
       " ['Ace. #CORONAVIRUS '],\n",
       " ['Por eso q los contagios siguen subiendo #coronavirus no piensan en los demas'],\n",
       " ['US Customs seize \"illegal\" #coronavirus test kits on flight from the UK. '],\n",
       " ['What can you/we do to support: elderly, neighbours, struggling employees or employers, others? We all have skills or we can make time, not only cash If one thing good could come from #coronavirus could it be rebuilding a bit of societal glue, which has been lost to consumerism?'],\n",
       " ['Socorro, es por un brasileño que estuvo en contacto con los trabajadores y dio positivo al #Coronavirus en Brasil '],\n",
       " [\"J'ai 10 masques de protection encore emballé à donner sur Cosnes-et-Romain(54). Je suis en télétravail donc pas le besoin. C'est peu mais si cela peut aider un(e) ou des #AVS , #AS ou infirmièr(e)s etc ... #coronavirus #cosnesetromain #COVID19\"],\n",
       " ['Le coronavirus est bien d’origine naturelle https://www.futura-sciences.com/sante/actualites/coronavirus-coronavirus-bien-origine-naturelle-80101/ #coronavirus'],\n",
       " ['https://www.youtube.com/watch?v=V1HH1-ozS_A De mis recuerdos cinematográficos extraje esta última escena de la película #contagion Una historia con 10 años pero que está mas vigente que nunca #contagio #coronavirus #epidemia #pandemia #PandemiaDelCoronavirus @fdbedout @DanielSamperO @MabelLaraNews'],\n",
       " ['> While the liberal media recklessly politicizes #coronavirus, Pres @realDonaldTrump has prioritized the safety of Americans ...Thus joining the rest of the World!'],\n",
       " ['Every person who has lost a loved one to #coronavirus now will wonder if #Burr could have done anything to stop this.'],\n",
       " ['Salí a tomar sol en la terraza porque ya me estoy poniendo verde por tanto encierro! Se que es por nuestro bien, quédense en casa para salir pronto de esta situación. #coronavirus #QuedateEnTuCasaCarajo #COVID2019ec #CuarentenaTotal'],\n",
       " ['Hugo López-Gatell desmonta mitos sobre el #Coronavirus | Gobierno de México https://youtu.be/seDFSBNrpak vía @YouTube'],\n",
       " ['रह-रहकर मन में एक ख्याल भी आता रहा कि #nirbhaya के गुनहगारों को #CORONAVIRUSCARE के मसले पर टेस्टिंग लैब में भेज दिया जाता शायद दुनियां को कुछ अंजाम नजर आता लेकिन कुछ रूहें इतनी बुरी होती हैं कि उनके साथ कुछ अच्छा भी नहीं हो पाता। #coronavirus #nirbhayacase'],\n",
       " ['Desde #SIETeSS queremos dar nuestro más sentido pésame en nombre de los #TécnicosSuperioresSanitarios a la familia y amigos de la compañera fallecida en el @OSIBGaldakaoESI, primera #ProfesionaldealaSalud que cae ante el #coronavirus lo hacemos extensivo a la #enfermeria #TSS'],\n",
       " ['Snack 1 review: I’m sorry #zebracake lovers, but those things are disgusting. Why did I buy two boxes of those things? Will they taste better frozen? #LittleDebbie #QuarentineLife #QuarantineLife #QuarantineSnackReview #coronavirus'],\n",
       " ['It doesn’t but #coronavirus is a virus, not a disease. Two completely different things'],\n",
       " ['Los investigadores buscan medicamentos viejos para un posible tratamiento para el coronavirus: Cloroquina, hidroxicloroquina y remdesivir sera el medicamento para el coronavirus COVID-19 https://www.saludvidasana.com/2020/03/cloroquina-hidroxicloroquina-y-remdesivir-sera-el-medicamento-para-el-coronavirus-covid-19.html #coronavirus #tratamiento #salud'],\n",
       " ['Kolejna cholernie istotna „nitka” dot. #koronawirus / #coronavirus - czyli mega rzetelny wpis specjalisty, z informacjami od A do Z na temat hipotetycznej szczepionki z przyszłości Warto przeczytać, warto wiedzieć, rozwiewa bardzo dużo wątpliwości i wyjaśnia wiele niedomówień. '],\n",
       " ['Imagine a world where WRESTLE FREAKIN MANIA is TAPED?! #Wow #coronavirus '],\n",
       " ['Boa noite Deem uma olhada la e se gostar se inscrevam #BoaNoite #BBB #COVID19tr #coronavirus #Brasil'],\n",
       " ['\"Grandes #empresas, #pymes y #startups ofrecen gratuitamente su conocimiento y #servicios para combatir la #pandemia en la medida de lo posible\". Fuente: @elpais_retina #coronavirus Más información en: '],\n",
       " ['Please let those a little older and slower this opportunity to get much needed supplies. I saw so many overmatched this AM and my heart ached for them. #coronavirus '],\n",
       " ['#Repost @eonlinelatino #RickyMartin ha sido una de las celebridades que más ha recalcado la importancia del aislamiento ¿Cuál #Ricky eres hoy? #QuédateEnCasa #Coronavirus #Cuarentena [ :@ricky_martin] https://www.instagram.com/p/B97z2iQnjNE/?igshid=jhl8i396wgvr'],\n",
       " ['Omgggg does this mean I’ll pass my maths resit from year 11 that I’m still currently doing and am due to do in June.. yessss it doesss #coronavirus #QuarantineLife'],\n",
       " ['Young people getting sick from coronavirus, according to COVID-19 data from Italy, France younger adults #coronavirus '],\n",
       " ['\"Coronavirus: Italia supera el número de muertes en China\" #Coronavirus '],\n",
       " ['CÓMO ACTUAR ANTE UN #ERTE (EXPEDIENTE DE REGULACIÓN DE EMPLEO TEMPORAL). #Casabermeja #Covid_19 #coronavirus '],\n",
       " [\"Avec le Coronavirus, je suis aller à New-York, les gens étaient confinés et se battaient pour des ressources. Oui, j'ai jouée à The Division 2. Merci. #TheDivision2 #Coronavirus\"],\n",
       " ['Sigamos las recomendaciones para evitar la propagación del #Coronavirus tomando en cuenta las medidas de higiene pertinentes. #COVID19 #UsoDeGel'],\n",
       " ['#Nacionales | Juan Guaidó, aseguró que los #PresosPoliticos venezolanos corren riesgo ante la #pandemia del #coronavirus #Covid_19 que ya suma 42 casos confirmados hasta este jueves #19mar '],\n",
       " ['#Covid_19 #jokes #coronavirus '],\n",
       " ['@realDonaldTrump #CoronaVirusUpdate #coronavirus you have to give it to China ... The coverup artists of the decade '],\n",
       " ['Ojo con esta info que comparte el alcalde de @SanPedroNL sobre la distribución de los 25 casos confirmados por #coronavirus en #NuevoLeon #QuedateEnLaCasa'],\n",
       " ['Q: How to stop #coronavirus pandemic? A: Give speeches like @narendramodi. IndianGovt answer to #pandemic'],\n",
       " ['Well,some sage advice here as world goes into #coronavirus lockdown. Perfect time to try out home-made #palmoilfree products.Bitterly ironic that #palmoil used to extend shelf life not necessary right now with much less staying on shelves for long #auspol'],\n",
       " ['More NBA players testing positive for #coronavirus Lakers , Celtic'],\n",
       " ['Harrowing reality from a NYC surgeon. Where do we go from here? God Bless Us All, now more than ever #Coronavirus #COVID19 #StayHome'],\n",
       " ['Casos de #CoronaVirus en Latinoamérica Al Momento 635 Brasil 342 Chile 260 Ecuador 237 Perú 137 Panamá 127 Argentina 118 México 108 Colombia 89 Costa rica 79 Uruguay 42 Venezuela 34 R.Dominicana 13 Paraguay 12 Honduras 1 El Salvador 1 Nicaragua #COVID19 '],\n",
       " ['Games, practices, classes and workouts may be cancelled, but athletes are still busy at work serving students alongside @FCAsouthATL. @FPHSPanthers What are your athletes doing to keep themselves busy during the #coronavirus downtime? '],\n",
       " ['Mientras todo un pueblo se esfuerza por mejorar el aislamiento social, el Intendente permite funcionamiento de bares y cines... el gobierno no entiende en qué estamos, ¿qué esperan para reaccionar y ser coherentes? #CuarentenaTotal #coronavirus #QuedateEnLaCasa #laserena'],\n",
       " ['What\\'s the catch with these \"coronavirus checks\"? #coronavirus'],\n",
       " ['Health care people are literally begging us to stay away from each other. #COVID19 #coronavirus '],\n",
       " ['#CoronaVirus le Président @moisejovenel annonce la fermeture des ports et aéroports dès ce soir .#RFMINFO']]"
      ]
     },
     "execution_count": 13,
     "metadata": {},
     "output_type": "execute_result"
    }
   ],
   "source": [
    "# Print texts\n",
    "text_tweets"
   ]
  },
  {
   "cell_type": "code",
   "execution_count": 14,
   "metadata": {},
   "outputs": [],
   "source": [
    "# Removing stop words from the tokenized words list\n",
    "final_words = [word for word in tokenized_words if word not in stop_words]"
   ]
  },
  {
   "cell_type": "markdown",
   "metadata": {},
   "source": [
    "# Positive emotions after Corona-Virus Outbreak"
   ]
  },
  {
   "cell_type": "code",
   "execution_count": 15,
   "metadata": {},
   "outputs": [
    {
     "name": "stdout",
     "output_type": "stream",
     "text": [
      "Counter({'achievable': 1, 'best': 1, 'better': 1, 'bless': 1, 'defeat': 1, 'encourage': 1, 'facilitate': 1, 'faster': 1, 'fond': 1, 'good': 1, 'healthy': 1, 'important': 1, 'incredible': 1, 'interesting': 1, 'like': 1, 'loved': 1, 'lucky': 1, 'perfect': 1, 'positive': 1, 'properly': 1, 'protection': 1, 'right': 1, 'smart': 1, 'steadfast': 1, 'support': 1, 'tempting': 1, 'trump': 1, 'victory': 1, 'wonder': 1, 'work': 1, 'wow': 1})\n"
     ]
    }
   ],
   "source": [
    "emotion_list = []\n",
    "with open('p-emotions.txt', 'r') as file:\n",
    "    for line in file:\n",
    "        clear_line = line.replace('\\n', '').strip()\n",
    "        emotion = clear_line\n",
    "        if emotion in final_words:\n",
    "            emotion_list.append(emotion)\n",
    "\n",
    "w = Counter(emotion_list)\n",
    "print(w)\n"
   ]
  },
  {
   "cell_type": "code",
   "execution_count": 16,
   "metadata": {},
   "outputs": [
    {
     "data": {
      "image/png": "[encoded data removed]",
      "text/plain": [
       "<Figure size 432x288 with 1 Axes>"
      ]
     },
     "metadata": {
      "needs_background": "light"
     },
     "output_type": "display_data"
    }
   ],
   "source": [
    "fig, ax1 = plt.subplots()\n",
    "ax1.bar(w.keys(), w.values())\n",
    "fig.autofmt_xdate()\n",
    "plt.savefig('graph.png')\n",
    "plt.show()"
   ]
  },
  {
   "cell_type": "markdown",
   "metadata": {},
   "source": [
    "# Negative emotions after Corona-Virus Outbreak"
   ]
  },
  {
   "cell_type": "code",
   "execution_count": 17,
   "metadata": {},
   "outputs": [
    {
     "name": "stdout",
     "output_type": "stream",
     "text": [
      "Counter({'ached': 1, 'begging': 1, 'breaking': 1, 'concerns': 1, 'crazy': 1, 'crisis': 1, 'dead': 1, 'depression': 1, 'disaster': 1, 'disgusting': 1, 'drunk': 1, 'emergency': 1, 'enemy': 1, 'fall': 1, 'fever': 1, 'frozen': 1, 'illegal': 1, 'illness': 1, 'infected': 1, 'invisible': 1, 'ironic': 1, 'lost': 1, 'mania': 1, 'plea': 1, 'propaganda': 1, 'recklessly': 1, 'sick': 1, 'slower': 1, 'sorry': 1, 'struggling': 1, 'torture': 1, 'urgent': 1, 'virus': 1, 'worried': 1, 'worst': 1, 'wrestle': 1})\n"
     ]
    }
   ],
   "source": [
    "emotion_list = []\n",
    "with open('n-emotions.txt', 'r') as file:\n",
    "    for line in file:\n",
    "        clear_line = line.replace('\\n', '').strip()\n",
    "        emotion = clear_line\n",
    "        if emotion in final_words:\n",
    "            emotion_list.append(emotion)\n",
    "\n",
    "w = Counter(emotion_list)\n",
    "print(w)"
   ]
  },
  {
   "cell_type": "code",
   "execution_count": 18,
   "metadata": {},
   "outputs": [
    {
     "data": {
      "image/png": "[encoded data removed]",
      "text/plain": [
       "<Figure size 432x288 with 1 Axes>"
      ]
     },
     "metadata": {
      "needs_background": "light"
     },
     "output_type": "display_data"
    }
   ],
   "source": [
    "fig, ax1 = plt.subplots()\n",
    "ax1.bar(w.keys(), w.values())\n",
    "fig.autofmt_xdate()\n",
    "plt.savefig('graph.png')\n",
    "plt.show()"
   ]
  },
  {
   "cell_type": "code",
   "execution_count": null,
   "metadata": {},
   "outputs": [],
   "source": []
  }
 ],
 "metadata": {
  "kernelspec": {
   "display_name": "Python 3",
   "language": "python",
   "name": "python3"
  },
  "language_info": {
   "codemirror_mode": {
    "name": "ipython",
    "version": 3
   },
   "file_extension": ".py",
   "mimetype": "text/x-python",
   "name": "python",
   "nbconvert_exporter": "python",
   "pygments_lexer": "ipython3",
   "version": "3.7.3"
  }
 },
 "nbformat": 4,
 "nbformat_minor": 4
}
